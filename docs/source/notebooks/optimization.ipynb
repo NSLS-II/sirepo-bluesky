{
 "cells": [
  {
   "cell_type": "markdown",
   "metadata": {},
   "source": [
    "## Optimize the beamline\n",
    "\n",
    "In this example, we use the `bloptools` package to optimize the beamline.\n",
    "\n",
    "We set up the simulation as we normally do:"
   ]
  },
  {
   "cell_type": "code",
   "execution_count": null,
   "metadata": {
    "tags": []
   },
   "outputs": [],
   "source": [
    "from sirepo_bluesky import prepare_re_env\n",
    "\n",
    "%run -i $prepare_re_env.__file__\n",
    "\n",
    "from sirepo_bluesky.sirepo_bluesky import SirepoBluesky\n",
    "from sirepo_bluesky.sirepo_ophyd import create_classes\n",
    "\n",
    "connection = SirepoBluesky(\"http://localhost:8000\")\n",
    "\n",
    "data, schema = connection.auth(\"shadow\", sim_id=\"00000002\")\n",
    "classes, objects = create_classes(connection=connection)\n",
    "globals().update(**objects)\n",
    "\n",
    "bec.disable_plots()\n",
    "\n",
    "aperture.horizontalSize.kind = \"hinted\"\n",
    "w9.duration.kind = \"hinted\""
   ]
  },
  {
   "cell_type": "markdown",
   "metadata": {},
   "source": [
    "We can then instantiate an `Agent` from the `bloptools` package; because it can run any experiment defined with a Bluesky plan, we can give it any of our Sirepo components to use as degrees of freedom. We define the objectives as to maximize the flux density of the beamline."
   ]
  },
  {
   "cell_type": "code",
   "execution_count": null,
   "metadata": {
    "tags": []
   },
   "outputs": [],
   "source": [
    "from bloptools.bayesian import Agent, DOF, Objective\n",
    "\n",
    "dofs = [\n",
    "    DOF(\n",
    "        device=kbh.x_rot,\n",
    "        limits=(-5e-2, +5e-2),\n",
    "        tags=[\"kb\", \"kbv\"],\n",
    "        units=\"deg\",\n",
    "    ),\n",
    "    DOF(\n",
    "        device=kbv.x_rot,\n",
    "        limits=(-5e-2, +5e-2),\n",
    "        tags=[\"kb\", \"kbv\"],\n",
    "        units=\"deg\",\n",
    "    ),\n",
    "]\n",
    "\n",
    "# composite\n",
    "objectives = [\n",
    "    Objective(name=\"w9_flux\", description=\"total flux\", target=\"max\", log=True),\n",
    "    Objective(name=\"w9_fwhm_x\", description=\"horizontal FWHM\", target=\"min\", log=True),\n",
    "    Objective(name=\"w9_fwhm_y\", description=\"vertical FWHM\", target=\"min\", log=True),\n",
    "]\n",
    "\n",
    "\n",
    "agent = Agent(\n",
    "    dofs=dofs,\n",
    "    dets=[w9],\n",
    "    objectives=objectives,\n",
    "    db=db,\n",
    ")"
   ]
  },
  {
   "cell_type": "markdown",
   "metadata": {},
   "source": [
    "We start by running a scan over a quasi-random sample of input parameters, and plot the result:"
   ]
  },
  {
   "cell_type": "code",
   "execution_count": null,
   "metadata": {
    "tags": []
   },
   "outputs": [],
   "source": [
    "RE(agent.learn(acq_func=\"qr\", n=16))\n",
    "agent.plot_objectives()"
   ]
  },
  {
   "cell_type": "markdown",
   "metadata": {},
   "source": [
    "We then use a more intelligent strategy (\"$q$-expected mean\") to narrow in on the optimum."
   ]
  },
  {
   "cell_type": "code",
   "execution_count": null,
   "metadata": {
    "tags": []
   },
   "outputs": [],
   "source": [
    "RE(agent.learn(\"qem\", iterations=4))"
   ]
  },
  {
   "cell_type": "markdown",
   "metadata": {},
   "source": [
    "We can see the convergence of our model:"
   ]
  },
  {
   "cell_type": "code",
   "execution_count": null,
   "metadata": {
    "tags": []
   },
   "outputs": [],
   "source": [
    "agent.plot_history()"
   ]
  }
 ],
 "metadata": {
  "kernelspec": {
   "display_name": "Python 3 (ipykernel)",
   "language": "python",
   "name": "python3"
  },
  "language_info": {
   "codemirror_mode": {
    "name": "ipython",
    "version": 3
   },
   "file_extension": ".py",
   "mimetype": "text/x-python",
   "name": "python",
   "nbconvert_exporter": "python",
   "pygments_lexer": "ipython3",
   "version": "3.10.0"
  }
 },
 "nbformat": 4,
 "nbformat_minor": 4
}
