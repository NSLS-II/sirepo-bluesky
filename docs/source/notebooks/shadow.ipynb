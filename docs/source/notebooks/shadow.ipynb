{
 "cells": [
  {
   "attachments": {},
   "cell_type": "markdown",
   "metadata": {},
   "source": [
    "# Shadow Simulations\n",
    "\n",
    "This section is based on the **TES** beamline example.\n",
    "\n",
    "**Hint**: See the [List of predefined simulations in Sirepo](../simulations.rst) for examples of identifiers for different beamlines."
   ]
  },
  {
   "attachments": {},
   "cell_type": "markdown",
   "metadata": {},
   "source": [
    "## Run \"Beamline\" Shadow3 simulations\n",
    "\n",
    "This example repeats the first simulation in \"Optical Elements as Ophyd Objects\", but instead uses Shadow3 to run the simulation. "
   ]
  },
  {
   "attachments": {},
   "cell_type": "markdown",
   "metadata": {},
   "source": [
    "Start ``ipython`` and run the following where ``sim_id`` is the UID for the simulation we are working with:"
   ]
  },
  {
   "cell_type": "code",
   "execution_count": null,
   "metadata": {},
   "outputs": [],
   "source": [
    "from sirepo_bluesky import prepare_re_env\n",
    "\n",
    "%run -i $prepare_re_env.__file__\n",
    "\n",
    "from sirepo_bluesky.sirepo_bluesky import SirepoBluesky\n",
    "from sirepo_bluesky.sirepo_ophyd import BeamStatisticsReport, create_classes\n",
    "\n",
    "connection = SirepoBluesky(\"http://localhost:8000\")\n",
    "\n",
    "data, schema = connection.auth(\"shadow\", sim_id=\"00000002\")\n",
    "classes, objects = create_classes(connection=connection)\n",
    "globals().update(**objects)\n",
    "\n",
    "print(f\"Number of points before change: {data['models']['simulation']['npoint']}\")\n",
    "data[\"models\"][\"simulation\"][\"npoint\"] = 1000000\n",
    "print(f\"Number of points after change: {data['models']['simulation']['npoint']}\")\n",
    "aperture.horizontalSize.kind = \"hinted\"\n",
    "w9.duration.kind = \"hinted\"\n",
    "\n",
    "(uid,) = RE(bp.scan([w9], aperture.horizontalSize, 0, 2, 6))\n",
    "\n",
    "hdr = db[uid]\n",
    "tbl = hdr.table(fill=True)\n",
    "print(tbl)\n",
    "\n",
    "w9_image = np.array(list(hdr.data(\"w9_image\")))"
   ]
  },
  {
   "cell_type": "code",
   "execution_count": null,
   "metadata": {},
   "outputs": [],
   "source": [
    "from mpl_toolkits.axes_grid1 import ImageGrid\n",
    "\n",
    "print(f\"Data shape: {w9_image.shape}\")\n",
    "num_frames = w9_image.shape[0]\n",
    "ncols = 2\n",
    "nrows = int(np.ceil(num_frames / ncols))\n",
    "\n",
    "fig = plt.figure()\n",
    "grid = ImageGrid(\n",
    "    fig,\n",
    "    (1, 2, ncols, nrows),\n",
    "    nrows_ncols=(nrows, ncols),\n",
    "    axes_pad=0.5,\n",
    "    aspect=False,\n",
    ")\n",
    "\n",
    "for ax, im in zip(grid, w9_image[:, ...]):\n",
    "    ax.imshow(im, aspect=\"auto\")"
   ]
  },
  {
   "attachments": {},
   "cell_type": "markdown",
   "metadata": {},
   "source": [
    "## Run \"Beam Statistics\" Sirepo/Shadow app simulations\n",
    "\n",
    "In this example, we scan the toroidal mirror's radius and collect the results of the \"Beam Statistics\" report on the \"Beamline\" page of Sirepo/Shadow app. At the end of the execution, we provide the timing report for these simulations."
   ]
  },
  {
   "cell_type": "code",
   "execution_count": null,
   "metadata": {},
   "outputs": [],
   "source": [
    "from sirepo_bluesky import prepare_re_env\n",
    "\n",
    "%run -i $prepare_re_env.__file__\n",
    "\n",
    "from sirepo_bluesky.sirepo_bluesky import SirepoBluesky\n",
    "from sirepo_bluesky.sirepo_ophyd import BeamStatisticsReport, create_classes\n",
    "\n",
    "connection = SirepoBluesky(\"http://localhost:8000\")\n",
    "\n",
    "data, schema = connection.auth(\"shadow\", sim_id=\"00000002\")\n",
    "\n",
    "classes, objects = create_classes(connection=connection)\n",
    "globals().update(**objects)\n",
    "\n",
    "bsr = BeamStatisticsReport(name=\"bsr\", connection=connection)\n",
    "\n",
    "toroid.r_maj.kind = \"hinted\"\n",
    "bsr.duration.kind = \"hinted\"\n",
    "\n",
    "scan_range = (10_000, 50_000, 21)\n",
    "\n",
    "(uid,) = RE(bp.scan([bsr], toroid.r_maj, *scan_range))\n",
    "\n",
    "hdr = db[uid]\n",
    "tbl = hdr.table()\n",
    "print(tbl)"
   ]
  },
  {
   "cell_type": "code",
   "execution_count": null,
   "metadata": {},
   "outputs": [],
   "source": [
    "import json\n",
    "import matplotlib.pyplot as plt\n",
    "\n",
    "for idx in range(1, tbl[\"toroid_r_maj\"].size + 1):\n",
    "    d = json.loads(tbl[\"bsr_report\"][idx])\n",
    "    plt.figure(figsize=(16, 4))\n",
    "    plt.plot(d[\"s\"], d[\"sigmax\"], label=\"Horizonal RMS Beam Size [m]\")\n",
    "    plt.plot(d[\"s\"], d[\"sigmaz\"], label=\"Vertical RMS Beam Size [m]\")\n",
    "    plt.xlabel(\"Distance Along Beamline [m]\")\n",
    "    plt.legend()\n",
    "    plt.title(f\"toroid_r_maj = {tbl['toroid_r_maj'][idx]:.0f}\")"
   ]
  },
  {
   "cell_type": "code",
   "execution_count": null,
   "metadata": {},
   "outputs": [],
   "source": [
    "data = np.array(tbl[\"time\"].diff(), dtype=float)[1:] / 1e9\n",
    "\n",
    "fig = plt.figure()\n",
    "ax = fig.add_subplot()\n",
    "ax.plot(np.linspace(*scan_range)[1:], data, label=\"Duration of simulations\")\n",
    "ax.set_ylabel(\"Duration of simulations [s]\")\n",
    "ax.set_xlabel(\"Torus Major Radius [m]\")\n",
    "ax.axhline(data.mean(), color=\"k\", label=\"Averaged duration\")\n",
    "ax.legend()\n",
    "title = (\n",
    "    f\"Shadow TES simulation\\n\"\n",
    "    f\"RE(bp.scan([bsr], toroid.r_maj, \"\n",
    "    f\"{', '.join([str(x) for x in scan_range])}))\"\n",
    ")\n",
    "ax.set_title(title)\n",
    "plt.show()"
   ]
  }
 ],
 "metadata": {
  "kernelspec": {
   "display_name": "Python 3",
   "language": "python",
   "name": "python3"
  },
  "language_info": {
   "codemirror_mode": {
    "name": "ipython",
    "version": 3
   },
   "file_extension": ".py",
   "mimetype": "text/x-python",
   "name": "python",
   "nbconvert_exporter": "python",
   "pygments_lexer": "ipython3",
   "version": "3.9.13"
  }
 },
 "nbformat": 4,
 "nbformat_minor": 4
}
