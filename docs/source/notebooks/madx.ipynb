{
 "cells": [
  {
   "cell_type": "markdown",
   "metadata": {},
   "source": [
    "# MAD-X Simulations\n",
    "\n",
    "This section is based on the **BL2_Triplet_TDC_full** (Beamline 2, transverse deflector cavity in operation) ATF example.\n",
    "\n",
    "**Hint**: See the [List of predefined simulations in Sirepo](../simulations.rst) for examples of identifiers for different beamlines."
   ]
  },
  {
   "cell_type": "markdown",
   "metadata": {},
   "source": [
    "### Setup and scan model before changing parameters"
   ]
  },
  {
   "cell_type": "code",
   "execution_count": null,
   "metadata": {},
   "outputs": [],
   "source": [
    "from sirepo_bluesky import prepare_re_env\n",
    "\n",
    "%run -i $prepare_re_env.__file__ -e flyer\n",
    "\n",
    "import matplotlib.pyplot as plt\n",
    "\n",
    "from sirepo_bluesky.common.sirepo_client import SirepoClient\n",
    "from sirepo_bluesky.madx.madx_flyer import MADXFlyer\n",
    "from sirepo_bluesky.common.create_classes import create_classes\n",
    "\n",
    "connection = SirepoClient(\"http://localhost:8000\")\n",
    "\n",
    "data, schema = connection.auth(\"madx\", \"00000002\")\n",
    "classes, objects = create_classes(\n",
    "    connection=connection,\n",
    "    extra_model_fields=[\"rpnVariables\", \"commands\"],\n",
    ")\n",
    "globals().update(**objects)\n",
    "\n",
    "madx_flyer = MADXFlyer(\n",
    "    connection=connection,\n",
    "    root_dir=\"/tmp/sirepo-bluesky-data\",\n",
    "    report=\"elementAnimation250-20\",\n",
    ")\n",
    "\n",
    "(uid1,) = RE(bp.fly([madx_flyer]))\n",
    "hdr1 = db[uid1]\n",
    "tbl1 = hdr1.table(stream_name=\"madx_flyer\", fill=True)\n",
    "print(tbl1)"
   ]
  },
  {
   "cell_type": "markdown",
   "metadata": {},
   "source": [
    "### Scan again after changing parameters"
   ]
  },
  {
   "cell_type": "code",
   "execution_count": null,
   "metadata": {},
   "outputs": [],
   "source": [
    "def madx_plan(element=match8, parameter=ihq1, value=1.0):\n",
    "    yield from bps.mv(element.deltap, value)\n",
    "    yield from bps.mv(parameter.value, value)\n",
    "    return (yield from bp.fly([madx_flyer]))\n",
    "\n",
    "\n",
    "(uid2,) = RE(madx_plan())\n",
    "hdr2 = db[uid2]\n",
    "tbl2 = hdr2.table(stream_name=\"madx_flyer\", fill=True)\n",
    "print(tbl2)"
   ]
  },
  {
   "cell_type": "markdown",
   "metadata": {},
   "source": [
    "### Get the data via databroker API and plot"
   ]
  },
  {
   "cell_type": "code",
   "execution_count": null,
   "metadata": {},
   "outputs": [],
   "source": [
    "# Before changing parameters\n",
    "s1 = tbl1[\"madx_flyer_S\"]\n",
    "betx1 = tbl1[\"madx_flyer_BETX\"]\n",
    "bety1 = tbl1[\"madx_flyer_BETY\"]\n",
    "\n",
    "plt.figure()\n",
    "plt.plot(s1, betx1, label=\"betx\")\n",
    "plt.plot(s1, bety1, label=\"bety\")\n",
    "plt.xlabel(\"s [m]\")\n",
    "plt.ylabel(\"betx, bety [m]\")\n",
    "plt.title(\"Before\")\n",
    "plt.grid()\n",
    "plt.legend()"
   ]
  },
  {
   "cell_type": "code",
   "execution_count": null,
   "metadata": {},
   "outputs": [],
   "source": [
    "# After changing parameters\n",
    "s2 = tbl2[\"madx_flyer_S\"]\n",
    "betx2 = tbl2[\"madx_flyer_BETX\"]\n",
    "bety2 = tbl2[\"madx_flyer_BETY\"]\n",
    "\n",
    "plt.figure()\n",
    "plt.plot(s2, betx2, label=\"betx\")\n",
    "plt.plot(s2, bety2, label=\"bety\")\n",
    "plt.xlabel(\"s [m]\")\n",
    "plt.ylabel(\"betx, bety [m]\")\n",
    "plt.title(\"After\")\n",
    "plt.grid()\n",
    "plt.legend()"
   ]
  },
  {
   "cell_type": "markdown",
   "metadata": {},
   "source": [
    "### Get the data from the raw TFS file and plot"
   ]
  },
  {
   "cell_type": "code",
   "execution_count": null,
   "metadata": {},
   "outputs": [],
   "source": [
    "import os\n",
    "import tfs\n",
    "\n",
    "for name, doc in hdr2.documents():\n",
    "    if name == \"resource\":\n",
    "        resource_doc = doc\n",
    "        print(resource_doc)\n",
    "\n",
    "filename = os.path.join(resource_doc[\"root\"], resource_doc[\"resource_path\"])\n",
    "df = tfs.read(filename)"
   ]
  },
  {
   "cell_type": "code",
   "execution_count": null,
   "metadata": {},
   "outputs": [],
   "source": [
    "df"
   ]
  },
  {
   "cell_type": "code",
   "execution_count": null,
   "metadata": {},
   "outputs": [],
   "source": [
    "plt.figure()\n",
    "plt.plot(df[\"S\"], df[\"BETX\"], label=\"betx\")\n",
    "plt.plot(df[\"S\"], df[\"BETY\"], label=\"bety\")\n",
    "plt.xlabel(\"s [m]\")\n",
    "plt.ylabel(\"betx, bety [m]\")\n",
    "plt.title(\"After\")\n",
    "plt.grid()\n",
    "plt.legend()"
   ]
  },
  {
   "cell_type": "markdown",
   "metadata": {},
   "source": [
    "## Screenshots from Sirepo Website\n",
    "\n",
    "### Original model, before changing parameters\n",
    "\n",
    "![image.png](../../../images/madx_before_twiss3_file.png)\n",
    "\n",
    "### After changing parameters\n",
    "\n",
    "![image2.png](../../../images/madx_after_twiss3_file.png)\n"
   ]
  }
 ],
 "metadata": {
  "kernelspec": {
   "display_name": "Python 3",
   "language": "python",
   "name": "python3"
  },
  "language_info": {
   "codemirror_mode": {
    "name": "ipython",
    "version": 3
   },
   "file_extension": ".py",
   "mimetype": "text/x-python",
   "name": "python",
   "nbconvert_exporter": "python",
   "pygments_lexer": "ipython3",
   "version": "3.9.13"
  }
 },
 "nbformat": 4,
 "nbformat_minor": 4
}
